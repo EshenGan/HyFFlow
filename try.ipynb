{
 "cells": [
  {
   "cell_type": "code",
   "execution_count": 1,
   "metadata": {},
   "outputs": [],
   "source": [
    "import tkinter as tk\n",
    "import pandas as pd\n",
    "import numpy as np\n",
    "from tkinter.filedialog import askopenfile"
   ]
  },
  {
   "cell_type": "code",
   "execution_count": 2,
   "metadata": {},
   "outputs": [],
   "source": [
    "import matplotlib\n",
    "matplotlib.use('TkAgg')"
   ]
  },
  {
   "cell_type": "code",
   "execution_count": 3,
   "metadata": {},
   "outputs": [],
   "source": [
    "from matplotlib.backends.backend_tkagg import FigureCanvasTkAgg\n",
    "import matplotlib.pyplot as plt"
   ]
  },
  {
   "cell_type": "code",
   "execution_count": 6,
   "metadata": {
    "scrolled": false
   },
   "outputs": [
    {
     "name": "stdout",
     "output_type": "stream",
     "text": [
      "            Count  Water Discharge\n",
      "Time                              \n",
      "2020-01-26     40               28\n",
      "2020-02-02     66               14\n",
      "months\n",
      "January    106\n",
      "Name: Count, dtype: int64\n"
     ]
    }
   ],
   "source": [
    "root = tk.Tk()\n",
    "\n",
    "fig, ax = plt.subplots(figsize=(8,6))\n",
    "t = np.arange(0.0,3.0,0.01)\n",
    "s = np.sin(np.pi*t)\n",
    "plt.plot(t,s)\n",
    "\n",
    "canvas = FigureCanvasTkAgg(fig, master=root)\n",
    "plot_widget = canvas.get_tk_widget()\n",
    "\n",
    "# read csv files\n",
    "def open_file():\n",
    "    file = askopenfile(mode='r', filetypes = [('csv files', '*.csv')])\n",
    "    if file is not None:\n",
    "        data = pd.read_csv(file)\n",
    "        x = data['Time']\n",
    "        y = data['Count']\n",
    "        z = data['Water Discharge']\n",
    "        plt.clf() # clear plot first\n",
    "        data.Time=pd.to_datetime(data.Time)\n",
    "        dg = data.groupby(pd.Grouper(key='Time', freq='1W')).sum()\n",
    "        data['months'] = data['Time'].apply(lambda x:x.strftime('%B'))\n",
    "        print(dg)\n",
    "        df=data.groupby('months')['Count'].sum()\n",
    "        print(df)\n",
    "        try1 = plt.plot(data.groupby(pd.Grouper(key='Time', freq='1Y'))['Count'].sum(),'g.-')\n",
    "        plt.xlabel('Time')\n",
    "        plt.ylabel('Count')\n",
    "#         try1=plt.plot(x, y,'g',label='Count')\n",
    "#         plt.xlabel('Time')\n",
    "#         plt.ylabel('Count')\n",
    "#         ax2=plt.twinx()\n",
    "#         try2=ax2.plot(x,z,'b' ,label='Water Discharge')\n",
    "#         try3=ax2.plot(x,z.rolling(3).mean(),'b' ,label='Water Discharge moving avverage')\n",
    "#         ax2.set_ylabel('Water Discharge')\n",
    "#         plt.xticks(x[::3])\n",
    "#         leg=try1+try2+try3\n",
    "#         labs=[l.get_label() for l in leg]\n",
    "#         ax2.legend(leg, labs, loc=0)\n",
    "        # plt.draw()\n",
    "        # fig.canvas.draw() \n",
    " \n",
    "\n",
    "tk.Button(root, text='Open', command = open_file).grid(row=2, column=1)\n",
    "\n",
    "def update():\n",
    "    fig.canvas.draw() \n",
    "\n",
    "def _quit():\n",
    "    root.quit()\n",
    "    root.destroy()  # correction: to clean the window when exit\n",
    "\n",
    "plot_widget.grid(row=0, column=0)\n",
    "tk.Button(root,text=\"Update\",command=update).grid(row=1, column=0)\n",
    "\n",
    "# add a quit button below 'update' button\n",
    "tk.Button(root, text = 'Quit', command = _quit).grid(row=2, column=0)\n",
    "\n",
    "root.mainloop()"
   ]
  },
  {
   "cell_type": "code",
   "execution_count": null,
   "metadata": {},
   "outputs": [],
   "source": []
  },
  {
   "cell_type": "code",
   "execution_count": null,
   "metadata": {},
   "outputs": [],
   "source": []
  }
 ],
 "metadata": {
  "kernelspec": {
   "display_name": "Python 3",
   "language": "python",
   "name": "python3"
  },
  "language_info": {
   "codemirror_mode": {
    "name": "ipython",
    "version": 3
   },
   "file_extension": ".py",
   "mimetype": "text/x-python",
   "name": "python",
   "nbconvert_exporter": "python",
   "pygments_lexer": "ipython3",
   "version": "3.7.4"
  }
 },
 "nbformat": 4,
 "nbformat_minor": 2
}
